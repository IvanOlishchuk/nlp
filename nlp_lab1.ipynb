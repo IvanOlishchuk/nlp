{
 "cells": [
  {
   "cell_type": "code",
   "execution_count": 1,
   "id": "68dea6b3-f31f-4377-acd7-c096b7f1ac7f",
   "metadata": {},
   "outputs": [
    {
     "name": "stdout",
     "output_type": "stream",
     "text": [
      "*** Introductory Examples for the NLTK Book ***\n",
      "Loading text1, ..., text9 and sent1, ..., sent9\n",
      "Type the name of the text or sentence to view it.\n",
      "Type: 'texts()' or 'sents()' to list the materials.\n",
      "text1: Moby Dick by Herman Melville 1851\n",
      "text2: Sense and Sensibility by Jane Austen 1811\n",
      "text3: The Book of Genesis\n",
      "text4: Inaugural Address Corpus\n",
      "text5: Chat Corpus\n",
      "text6: Monty Python and the Holy Grail\n",
      "text7: Wall Street Journal\n",
      "text8: Personals Corpus\n",
      "text9: The Man Who Was Thursday by G . K . Chesterton 1908\n"
     ]
    }
   ],
   "source": [
    "import nltk \n",
    "from nltk.book import *\n",
    "from nltk.tokenize import word_tokenize \n",
    "from collections import Counter\n",
    "import string"
   ]
  },
  {
   "cell_type": "code",
   "execution_count": 6,
   "id": "2b902969-3998-46ba-8c28-d898dfa29420",
   "metadata": {},
   "outputs": [
    {
     "name": "stdout",
     "output_type": "stream",
     "text": [
      "Hapaxes:\n",
      "1153\n",
      "less than 5 times:\n",
      "1733\n"
     ]
    }
   ],
   "source": [
    "freqdist = nltk.FreqDist(text6)\n",
    "hapaxes = freqdist.hapaxes()\n",
    "\n",
    "hapaxes5 = [word for word, freq in freqdist.items() if freq < 5]\n",
    "\n",
    "print(\"Hapaxes:\")\n",
    "print(len(hapaxes))\n",
    "\n",
    "print(\"less than 5 times:\")\n",
    "print(len(hapaxes5))"
   ]
  },
  {
   "cell_type": "code",
   "execution_count": 4,
   "id": "32a3edee-ea83-4a1f-9929-e9d88ac24320",
   "metadata": {},
   "outputs": [
    {
     "data": {
      "image/png": "[encoded data removed]",
      "text/plain": [
       "<Figure size 640x480 with 1 Axes>"
      ]
     },
     "metadata": {},
     "output_type": "display_data"
    }
   ],
   "source": [
    "import matplotlib.pyplot as plt\n",
    "\n",
    "word_length = [len(word) for word in text6]\n",
    "\n",
    "\n",
    "frequency_distribution = nltk.FreqDist(word_length)\n",
    "\n",
    "plt.bar(frequency_distribution.keys(), frequency_distribution.values())\n",
    "plt.title('Mapping from Word Length to Word Frequency (text6)')\n",
    "plt.xlabel('Word Length')\n",
    "plt.ylabel('Frequency')\n",
    "plt.show()\n"
   ]
  },
  {
   "cell_type": "code",
   "execution_count": 86,
   "id": "401edc26-fc03-4e24-ae2d-ec38ddab4fb4",
   "metadata": {},
   "outputs": [
    {
     "name": "stdout",
     "output_type": "stream",
     "text": [
      "10 most frequent words occurring at the end of the sentence: [('.', 816), ('!', 801), ('?', 207), ('...', 118), (\"'.\", 19), ('?!', 12), ('..', 3), (\"'!\", 3), (\"'?\", 3), ('[...', 1)]\n"
     ]
    }
   ],
   "source": [
    "sentence_endings = ('.', '!', '?')\n",
    "end_words = [word.lower() for word in text6 if any(word.endswith(ending) for ending in sentence_endings)]\n",
    "end_fd = FreqDist(end_words)\n",
    "most_common_end_words = end_fd.most_common(10)\n",
    "\n",
    "print(\"10 most frequent words occurring at the end of the sentence:\", most_common_end_words)"
   ]
  },
  {
   "cell_type": "code",
   "execution_count": 88,
   "id": "5cddeb20-61d1-473d-83ab-c2974afdd831",
   "metadata": {},
   "outputs": [
    {
     "name": "stdout",
     "output_type": "stream",
     "text": [
      "there; Halt; there; Camelot; England; one; Patsy; Camelot; master;\n",
      "What; horse; Yes; coconuts; What; together; So; coconuts; them; them;\n",
      "Mercea; tropical; mean; zone; land; migrate; all; carried; What;\n",
      "coconut; husk; it; ratios; coconut; matter; here; Listen; right;\n",
      "Please; right; interested; swallow; swallow; point; that; migratory;\n",
      "minute; together; line; simple; creeper; feathers; not; dead; dead;\n",
      "dead; dead; dead; dead; dead; dead; Ninepence; dead; dead; dead; dead;\n",
      "one; Ninepence; dead; What; Nothing; ninepence; dead; Ere; dead; is;\n",
      "not; t; soon; ill; better; not; moment; that; regulations; cart; baby;\n",
      "him; fine; favor; t; minutes; long; s; today; round; Thursday; walk;\n",
      "know; do; happy; much; all; Thursday; Right; right; then; dunno; king;\n",
      "Why; him; woman; Man; Man; Sorry; there; seven; what; seven; old; you;\n",
      "inferior; king; nice; eh; workers; society; here; Oh; do; lady;\n",
      "Britons; that; who; Britons; Britons; are; king; king; collective;\n",
      "yourself; dictatorship; again; about; people; haste; castle; there;\n",
      "lord; lord; What; you; commune; week; Yes; see; quiet; quiet; quiet;\n",
      "eh; is; Heh; king; you; kings; then; Excalibur; king; government;\n",
      "ceremony; quiet; you; up; away; you; up; system; up; Oh; system; help;\n",
      "repressed; peasant; away; that; eh; about; me; Aaagh; Aaagh; Ooh;\n",
      "Aagh; Oh; Ooh; Aaagh; etc; Aaaaaah; Aaaaaaaaah; Umm; Knight; Britons;\n",
      "Camelot; worthy; me; sad; it; Patsy; pass; What; pass; bridge; die;\n",
      "aside; man; it; etc; adversary; scratch; scratch; off; t; then; worse;\n",
      "liar; pansy; Huyah; Hiyaah; Aaaaaaaah; mine; Hah; then; What; you; Eh;\n",
      "mine; eh; bastard; left; have; Look; wound; that; Chicken; Chickennn;\n",
      "leg; Right; Right; that; what; here; me; invincible; looney; triumphs;\n",
      "you; then; Ooh; draw; Patsy; Oh; see; eh; bastards; you; requiem;\n",
      "requiem; requiem; witch; witch; witch; witch; witch; witch; witch;\n",
      "witch; witch; witch; witch; witch; witch; witch; witch; witch; her;\n",
      "her; her; witch; witch; witch; witch; witch; witch; her; her; Burn;\n",
      "her; her; witch; one; Right; Yeah; Yeah; forward; witch; witch; one;\n",
      "this; t; nose; one; Well; nose; nose; witch; Yeah; her; Right; Yeaaah;\n",
      "Yeaah; this; No; No; No; No; No; No; Yes; Yes; Yes; bit; bit; bit;\n",
      "bit; wart; witch; newt; newt; better; anyway; Burn; her; Burn; her;\n",
      "Quiet; Quiet; Quiet; Quiet; witch; there; Ah; they; us; us; witches;\n",
      "Burn; Burn; Burn; up; Burn; witches; witches; Shh; Wood; burn; wood;\n",
      "Good; heh; yeah; Oh; wood; her; stone; yeah; yeah; True; water; No;\n",
      "No; floats; floats; pond; pond; pond; water; Bread; Apples; rocks;\n",
      "Cider; gravy; Cherries; Mud; Churches; Churches; Lead; Lead; duck;\n",
      "Oooh; Exactly; wood; therefore; witch; witch; witch; witch; duck;\n",
      "duck; scales; Ohh; Ohh; witch; witch; her; her; her; her; her; her;\n",
      "her; Ahh; Right; supports; witch; witch; witch; cop; her; her; her;\n",
      "her; Burn; Burn; science; Britons; liege; Table; liege; honored; name;\n",
      "liege; film; shaped; Bedevere; earthquakes; sir; liege; Camelot;\n",
      "Camelot; Camelot; model; Shh; home; Camelot; table; able; impeccable;\n",
      "Camelot; Table; unsingable; Camelot; indefatigable; Gable; Camelot;\n",
      "Camelot; place; Right; Arthur; Britons; grovel; groveling; Sorry;\n",
      "apologise; Lord; t; depressing; off; Lord; Right; times; Lord; idea;\n",
      "Behold; Grail; grail; Grail; blessing; Lord; Halt; Hallo; Hallo; Allo;\n",
      "eet; Table; this; Loimbard; quest; Grail; keen; see; What; one; one;\n",
      "a; look; not; a; then; French; England; business; force; dogs; person;\n",
      "nnnnniggets; Thpppppt; Thppt; Thppt; person; wiper; direction;\n",
      "elderberries; to; a; chance; reasonable; Quoi; Christ; Christ; Ah;\n",
      "Ohh; Right; Charge; Charge; mother; go; dad; away; away; Thppppt;\n",
      "Fiends; apart; no; no; Sir; sir; bois; Quoi; cadeau; What; present;\n",
      "cadeau; oui; Hurry; What; go; Oh; va; magne; now; surprise; unarmed;\n",
      "out; I; Ohh; Oh; away; away; away; away; away; away; away; away; haw;\n",
      "Haw; eight; Action; Arthur; conclusion; individually; Aaaah; Robin;\n",
      "ways; minstrels; Camelot; Robin; ways; Robin; broken; Robin; lads;\n",
      "Heh; afoot; freedom; freedom; mud; Halt; thou; up; through; want; up;\n",
      "really; Knight; not; Ah; Table; Table; am; you; I; so; think; him;\n",
      "him; up; you; quick; out; headoff; off; favor; What; time; lucky; him;\n",
      "mean; snore; t; breath; teeth; tea; right; right; right; biscuits;\n",
      "Yes; biscuits; right; anyway; Right; off; has; away; No; away; t;\n",
      "fled; No; t; feet; did; retreat; lies; Robin; requiem; Wayy; ho; wayy;\n",
      "ho; heh; requiem; Wayy; Wayy; asking; Oh; Galahad; door; door; door;\n",
      "Hello; Knight; Anthrax; Anthrax; Yes; it; need; Grail; what; Grail;\n",
      "here; awhile; Midget; Crapper; Zoot; guest; you; you; you; you; you;\n",
      "you; varletesses; big; knight; Chaste; Zoot; Zoot; come; please;\n",
      "Grail; much; delirious; look; it; Galahad; hospitality; yours; us;\n",
      "Oooh; underwear; knights; Nay; Nay; Come; Come; here; wounded;\n",
      "nothing; immediately; please; down; trouble; yes; come; rest; Piglet;\n",
      "Winston; art; relax; necessary; you; that; Please; doctors; Look; be;\n",
      "chastity; bed; once; longer; Grail; here; it; it; Hello; Oh; Hello;\n",
      "Hello; Hello; Hello; Hello; Hello; Hello; Hello; Hello; Hello; Hello;\n",
      "Hello; Hello; Hello; Hello; Hello; Hello; Hello; Hello; Hello; Hello;\n",
      "Hello; Hello; Zoot; Dingo; going; Grail; castle; no; no; Zoot; it;\n",
      "Zoot; shaped; problem; Grail; Zoot; penalty; cut; glad; think;\n",
      "visually; committed; jokes; it; it; it; scene; it; Zoot; penalty;\n",
      "beacon; her; spanking; spanking; well; like; me; me; me; me; spanking;\n",
      "spanking; spanking; tonight; sex; sex; sex; longer; Galahad; hello;\n",
      "Quick; What; Quick; Why; peril; t; temptress; point; on; escape; fine;\n",
      "on; Galahad; No; handed; Yes; handed; Yes; handed; Galahad; on; No;\n",
      "Really; cope; easily; yes; easily; Yes; easily; No; Quick; Quick;\n",
      "Please; them; them; yes; easily; chance; chance; shit; time; peril;\n",
      "was; were; peril; peril; perilous; can; Grail; on; peril; No;\n",
      "unhealthy; gay; Grail; something; obviously; them; it; anyway; hee;\n",
      "Grail; ha; hee; ha; live; live; ha; entered; Grail; there; crossed;\n",
      "Grail; Death; Grail; hee; ha; Ni; Ni; Ni; Ni; Ni; Ni; you; Ni; No;\n",
      "same; they; wom; wom; tale; sacrifice; woods; Ni; Ni; Ni; Ni; Ni; Ni;\n",
      "Ow; Ow; Ow; Agh; us; want; shrubbery; what; Ni; Ni; Ni; Ni; Ow; Oh;\n",
      "please; more; shrubbery; alive; shrubbery; nice; course; expensive;\n",
      "Yes; Oh; scott; Hm; Hmm; Hm; Hmm; Ohh; up; Thsss; up; Thsss; up; that;\n",
      "that; up; that; on; off; on; away; away; away; you; off; Hah;\n",
      "Launcelot; yours; curtains; No; lad; land; lad; lad; Father; that;\n",
      "lad; nothing; swamp; em; swamp; one; swamp; one; swamp; up; islands;\n",
      "that; sing; that; that; here; lad; Britain; land; Herbert; Erbert;\n",
      "swamp; get; her; beautiful; rich; land; something; out; out; idea;\n",
      "Guards; him; him; Hic; no; him; room; no; No; leave; him; Hic; Right;\n",
      "room; no; room; room; Yes; right; Right; Hic; Right; Yes; it; simple;\n",
      "room; Alright; Hic; Right; remember; us; no; No; yes; obviously; no;\n",
      "else; me; you; Hic; back; back; right; Right; back; Hic; leave; What;\n",
      "leave; Prince; Yes; leave; course; Hic; Ah; him; guard; clear; Hic;\n",
      "clear; problems; Right; going; you; no; leave; see; Right; Father;\n",
      "you; on; singing; Hic; water; Concorde; sir; kind; again; go; Good;\n",
      "Steady; one; Uuh; Concorde; sir; Concorde; Concorde; me; will; me;\n",
      "last; call; distress; Grail; vain; sir; vain; sir; see; Concorde;\n",
      "here; sir; Idiom; sir; Concorde; then; sir; Morning; Morning; Oooh;\n",
      "ha; Hiyya; Hey; etc; ha; Huy; Uuh; Aaah; ha; this; Aah; Hiyah; Aah;\n",
      "Aaah; Hyy; Hya; Hiyya; Ha; aaugh; Camelot; sorry; note; note; me; no;\n",
      "would; that; that; it; it; you; son; you; sir; Father; conclusions;\n",
      "guards; yes; Sorry; each; sorry; everything; Launcelot; ready; all;\n",
      "lady; that; Launcelot; Hurry; up; all; head; dear; right; chest;\n",
      "fortune; explain; Camelot; Camelot; Launcelot; sir; Camelot; it;\n",
      "Hurry; ready; drink; ready; understanding; Oooh; away; that; Oooh;\n",
      "hall; room; is; hell; ha; Hey; ha; it; it; it; it; it; it; it; Please;\n",
      "Sorry; Sorry; mean; away; sorry; Sorry; everyone; man; it; it; Please;\n",
      "it; today; Hello; auntie; Please; Please; occasion; who; wedlock;\n",
      "death; Oh; no; daughter; dead; better; him; Uugh; died; sense; What;\n",
      "Look; Prince; Oooh; Prince; dead; better; creep; minute; you; that;\n",
      "that; No; it; tell; tell; uuup; tell; up; tell; up; tell; that; tell;\n",
      "tell; tell; tell; sir; tell; way; tell; tell; No; idiom; sir;\n",
      "Dramatically; Heee; Hoa; Hoo; escape; me; rewr; rewr; rewr; rewr;\n",
      "rewr; crone; shrubbery; you; Aggh; No; Never; here; Agh; worst; well;\n",
      "ni; No; Never; shrubberies; Ni; Nu; Nu; Nu; properly; No; Ni; Ni; it;\n",
      "it; it; Ni; Ohh; Ni; Ni; Agh; Ni; Ni; Ni; Ni; Ni; woman; yes; ladies;\n",
      "land; sacred; history; Yes; trade; shrubber; Shrubber; shrubberies;\n",
      "Ni; No; no; shrubbery; now; shrubbery; particularly; problem; that;\n",
      "Ni; Shh; Shh; Ni; test; shrubbery; shrubbery; Ni; middle; path; path;\n",
      "path; Ni; Shh; Ni; Ni; Ni; Shh; Shh; herring; thing; please; herring;\n",
      "done; Aaaugh; Aaaugh; Augh; Ohh; word; word; hear; is; Aaaaugh; again;\n",
      "Agh; Robin; sponge; Robin; liege; you; word; Grail; up; no; No; it;\n",
      "again; Aaaaugh; it; Aaaaugh; forest; place; Aaaaugh; Aaaaugh; word;\n",
      "it; hear; Ow; again; Patsy; Wait; it; it; Ooh; again; again; s; Ohh;\n",
      "four; rejoicing; Yay; Yay; minstrels; back; Eee; rejoicing; Yay;\n",
      "passed; Spring; nice; Summer; Oh; Ahh; Winter; Oh; Autumn; Aah; Oh;\n",
      "Waa; Eh; Oh; it; Oh; Oh; Knights; Forward; tinder; enchanter; known;\n",
      "Tim; Enchanter; Arthur; name; do; Grail; quest; Tim; Quite; Oh; Grail;\n",
      "Grail; Yeah; Yes; is; is; Yeah; Yup; Yup; Hm; it; are; Yeah; are; are;\n",
      "time; Ages; Umhm; helpful; Fine; so; yes; Yes; Yup; Yes; Oh; Oh; you;\n",
      "Ahh; Oh; Fine; you; Splendid; Grail; you; Grail; Tim; Follow; But;\n",
      "lived; lair; teeth; sire; foot; mount; Caerbannog; Right; covered;\n",
      "with; covered; late; What; is; Where; There; rabbit; rabbit; sod;\n",
      "What; up; rabbit; Ohh; on; tit; scared; killer; stuffed; mate; yeah;\n",
      "git; you; bum; bones; Bors; off; Right; bleeder; up; Look; Aaaugh;\n",
      "Christ; you; again; me; you; it; same; up; me; Right; Charge; etc;\n",
      "away; away; away; away; ha; haw; Ha; ha; Right; lose; Gawain; Ector;\n",
      "Bors; five; sir; Three; Three; assault; dynamite; more; armor; it;\n",
      "mistake; what; ooh; bows; No; Grenade; course; Antioch; him; Maynard;\n",
      "Grenade; requiem; requiem; requiem; eisrequiem; work; liege;\n",
      "Armaments; one; Brother; Pin; less; three; three; out; Amen; Amen;\n",
      "Right; five; sir; Three; There; Look; say; that; Maynard; scholar;\n",
      "Aramaic; course; Arimathea; Course; say; Arimathea; What; that; it;\n",
      "on; says; it; rock; dictating; up; else; No; Aauuggghhh; Aaauggh;\n",
      "Camaaaaaargue; that; think; Cornwall; Ives; yes; Iiiives; Iiiiives;\n",
      "Oooohoohohooo; no; throat; Aauuugh; no; no; alarm; aaaaaah; Oooh; God;\n",
      "Aaauugh; it; it; away; away; away; awaaay; awaaaaay; running; Shh;\n",
      "Shh; Shh; Shh; Shh; Shh; Shh; Shh; him; Aagh; attack; Ulk; more;\n",
      "continue; is; Death; great; Look; four; here; Death; questions;\n",
      "questions; questions; safety; wrong; Peril; go; questions; Robin; Yes;\n",
      "go; Hey; idea; go; Yes; liege; handed; no; No; on; on; on; questions;\n",
      "can; pray; liege; Launcelot; you; Stop; see; bridgekeeper; afraid;\n",
      "name; Camelot; quest; Grail; color; Blue; Right; go; you; much; easy;\n",
      "Stop; see; bridgekeeper; afraid; name; Camelot; quest; Grail; Assyria;\n",
      "that; Auuuuuuuugh; Stop; name; Camelot; quest; Grail; color; Blue;\n",
      "auuuuuuuugh; heh; Stop; name; Britons; quest; Grail; swallow; mean;\n",
      "swallow; Huh; that; Auuuuuuuugh; swallows; know; Launcelot; Launcelot;\n",
      "Launcelot; Launcelot; Launcelot; Launcelot; Launcelot; Launcelot;\n",
      "Launcelot; Aaagh; end; praised; Christ; know; time; presence; us;\n",
      "dresser; biters; castle; types; bottoms; force; Agh; Right; it;\n",
      "already; ha; away; them; folk; nnniggets; Thpppt; once; liege; attack;\n",
      "persons; Dappy; avenged; hoo; ha; chosen; ha; Charge; Hooray; Yes;\n",
      "ones; sure; on; too; right; on; Back; one; Back; away; off; on; along;\n",
      "van; off; on; whom; one; one; on; van; blanket; hospital; Ahh; Ooh;\n",
      "on; Back; back; on; along; along; off; is; on; em; Back; Right; along;\n",
      "Everything; sonny; enough; in; Christ\n"
     ]
    }
   ],
   "source": [
    "text6.findall(\"(<.*>)<[!?\\.]>\")"
   ]
  },
  {
   "cell_type": "code",
   "execution_count": 27,
   "id": "6dcedfc9-f872-4641-8388-81cf3e70441c",
   "metadata": {},
   "outputs": [
    {
     "data": {
      "text/plain": [
       "<Text: Since brass , nor stone , nor earth...>"
      ]
     },
     "execution_count": 27,
     "metadata": {},
     "output_type": "execute_result"
    }
   ],
   "source": [
    "f=open('book.txt','r')\n",
    "raw=f.read()\n",
    "tokens = nltk.word_tokenize(raw)\n",
    "text = nltk.Text(tokens)\n",
    "text"
   ]
  },
  {
   "cell_type": "code",
   "execution_count": 28,
   "id": "f3db4426-bfd5-4c23-b4f5-5440a722e0e8",
   "metadata": {},
   "outputs": [
    {
     "name": "stdout",
     "output_type": "stream",
     "text": [
      "Displaying 1 of 1 matches:\n",
      "Since brass , nor stone , nor earth , nor boundl\n"
     ]
    }
   ],
   "source": [
    "text.concordance(\"brass\")"
   ]
  },
  {
   "cell_type": "code",
   "execution_count": 40,
   "id": "303f4241-0d13-401d-b158-8316adec2172",
   "metadata": {},
   "outputs": [
    {
     "name": "stdout",
     "output_type": "stream",
     "text": [
      "\n"
     ]
    }
   ],
   "source": [
    "similar_words = text.similar(\"strong\")\n",
    "similar_words"
   ]
  },
  {
   "cell_type": "code",
   "execution_count": 42,
   "id": "ccf2269f-9e41-451a-861f-a578b3fed03b",
   "metadata": {},
   "outputs": [
    {
     "data": {
      "image/png": "[encoded data removed]",
      "text/plain": [
       "<Figure size 640x480 with 1 Axes>"
      ]
     },
     "metadata": {},
     "output_type": "display_data"
    }
   ],
   "source": [
    "#як я зрозумів, реверс\n",
    "words = [\"impregnable\", \"strong\", \"Or\", \"love\"]\n",
    "text.dispersion_plot(words)"
   ]
  },
  {
   "cell_type": "code",
   "execution_count": 46,
   "id": "23beb3e4-b209-4e89-9bec-8b8fd277d4a1",
   "metadata": {},
   "outputs": [
    {
     "name": "stdout",
     "output_type": "stream",
     "text": [
      "82 133\n"
     ]
    }
   ],
   "source": [
    "freqdist = nltk.FreqDist(text)\n",
    "hapaxes = freqdist.hapaxes()\n",
    "print(len(hapaxes), len(text))"
   ]
  },
  {
   "cell_type": "code",
   "execution_count": 23,
   "id": "de72d174-c3a2-4f1d-ad4e-cd844927637f",
   "metadata": {},
   "outputs": [
    {
     "name": "stdout",
     "output_type": "stream",
     "text": [
      "Monetary ['$1234.56', '$123.45', '$400', '$2500']\n",
      "Total 4258.01\n"
     ]
    }
   ],
   "source": [
    "import re\n",
    "\n",
    "def monetary(text):\n",
    "    pattern = r'\\$\\d+(?:\\.\\d{2})?'\n",
    "    return re.findall(pattern, text)\n",
    "     \n",
    "\n",
    "\n",
    "text = \"The total cost is $1234.56,  first amount is $123.45, second amount is $400. The product costs $2500.\"\n",
    "monetary_amounts = monetary(text)\n",
    "total = 0\n",
    "for value in monetary_amounts:\n",
    "    total+=float(value[1:])\n",
    "\n",
    "print(\"Monetary\", monetary_amounts)\n",
    "print(\"Total\", total)\n"
   ]
  },
  {
   "cell_type": "code",
   "execution_count": 47,
   "id": "8520b123-d5c2-474c-8525-3ae365cf4d90",
   "metadata": {},
   "outputs": [],
   "source": [
    "import json\n",
    "\n",
    "\n",
    "json_data = {\n",
    "    \"HTTPHost\": \"localhost\",\n",
    "    \"HTTPPort\": 8545,\n",
    "    \"Config\": {\n",
    "        \"Enabled\": True,\n",
    "        \"Server\": \"wakuv2.prod\",\n",
    "        \"Nodes\": [\"8.210.222.231\", \"168.166.125.145\", \"8.123.456.789\"]\n",
    "    }\n",
    "}"
   ]
  },
  {
   "cell_type": "code",
   "execution_count": 49,
   "id": "1af9e6ec-94bb-434a-b4fa-13841215c4b6",
   "metadata": {},
   "outputs": [
    {
     "name": "stdout",
     "output_type": "stream",
     "text": [
      "{\n",
      "  \"HTTPHost\": \"localhost\",\n",
      "  \"HTTPPort\": 8545,\n",
      "  \"Config\": {\n",
      "    \"Enabled\": true,\n",
      "    \"Server\": \"wakuv2.prod\",\n",
      "    \"Nodes\": [\n",
      "      \"168.166.125.145\"\n",
      "    ]\n",
      "  }\n",
      "}\n"
     ]
    }
   ],
   "source": [
    "pattern = re.compile(r'^8\\.')\n",
    "json_data[\"Config\"][\"Nodes\"] = [node for node in json_data[\"Config\"][\"Nodes\"] if not pattern.match(node)]\n",
    "print(json.dumps(json_data, indent=2))"
   ]
  },
  {
   "cell_type": "code",
   "execution_count": 51,
   "id": "4f7bce44-e61a-4112-9326-dba27e04ba87",
   "metadata": {},
   "outputs": [],
   "source": [
    "def replace(entry):\n",
    "    pattern = re.compile(r'^(?P<name>\\w+)\\.(?P<type>\\w+)$')\n",
    "    match = pattern.match(entry)\n",
    "    return {\"name\": match.group('name'), \"type\": match.group('type')} if match else entry\n"
   ]
  },
  {
   "cell_type": "code",
   "execution_count": 52,
   "id": "417230a3-9d01-4ef7-a7ce-92a20ac324c3",
   "metadata": {},
   "outputs": [
    {
     "name": "stdout",
     "output_type": "stream",
     "text": [
      "{\n",
      "  \"HTTPHost\": \"localhost\",\n",
      "  \"HTTPPort\": 8545,\n",
      "  \"Config\": {\n",
      "    \"Enabled\": true,\n",
      "    \"Server\": {\n",
      "      \"name\": \"wakuv2\",\n",
      "      \"type\": \"prod\"\n",
      "    },\n",
      "    \"Nodes\": [\n",
      "      \"168.166.125.145\"\n",
      "    ]\n",
      "  }\n",
      "}\n"
     ]
    }
   ],
   "source": [
    "json_data[\"Config\"][\"Server\"] = replace(json_data[\"Config\"][\"Server\"])\n",
    "\n",
    "print(json.dumps(json_data, indent=2))"
   ]
  }
 ],
 "metadata": {
  "kernelspec": {
   "display_name": "Python 3 (ipykernel)",
   "language": "python",
   "name": "python3"
  },
  "language_info": {
   "codemirror_mode": {
    "name": "ipython",
    "version": 3
   },
   "file_extension": ".py",
   "mimetype": "text/x-python",
   "name": "python",
   "nbconvert_exporter": "python",
   "pygments_lexer": "ipython3",
   "version": "3.11.0"
  }
 },
 "nbformat": 4,
 "nbformat_minor": 5
}
